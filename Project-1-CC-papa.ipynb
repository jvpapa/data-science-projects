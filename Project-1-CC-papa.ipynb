{
 "cells": [
  {
   "cell_type": "markdown",
   "metadata": {},
   "source": [
    "<img src=\"http://imgur.com/1ZcRyrc.png\" style=\"float: left; margin: 20px; height: 55px\">\n",
    "\n",
    "# Project 1: Python Coding Exercises\n",
    "\n",
    "_Authors: Joseph Nelson (DC) _\n",
    "\n",
    "---"
   ]
  },
  {
   "cell_type": "markdown",
   "metadata": {},
   "source": [
    "The following code challenges are drawn from common exercises used in technical interviews.\n",
    "\n",
    "Note that there may be several ways to approach each challenge!"
   ]
  },
  {
   "cell_type": "markdown",
   "metadata": {},
   "source": [
    "### Challenge 1.1: Largest Palindrome\n",
    "A palindromic number reads the same both ways. For example, 1234321 is a palindrome. The largest palindrome made from the product of two two-digit numbers is 9009 = 91 × 99. Find the largest palindrome made from the product of two three-digit numbers."
   ]
  },
  {
   "cell_type": "code",
   "execution_count": 124,
   "metadata": {
    "collapsed": false
   },
   "outputs": [
    {
     "name": "stdout",
     "output_type": "stream",
     "text": [
      "The largest palindrone is 906609\n"
     ]
    }
   ],
   "source": [
    "# This method returns True if number is a palindrone, Flase otherwise\n",
    "def is_palindrone(num):\n",
    "    #convert number to string\n",
    "    num_str = str(num)\n",
    "    # Read digit at beginning and end of number, repeat outside-in towards middle\n",
    "    for c in range(0,len(num_str)/2):\n",
    "        # check if left digit is the same as right digit, failure exits with False \n",
    "        if num_str[c] != num_str[len(num_str)-c-1]:\n",
    "            return False\n",
    "    # if all digits match outside-in, then we have a palindrone\n",
    "    return True    \n",
    "\n",
    "# List of all palindrones      \n",
    "palindrones = []\n",
    "# Compute all products of numbers from 100 to 999, and check if they are palindrones\n",
    "for i in range(100,999):\n",
    "    for j in range(100,1000):\n",
    "        p = i*j\n",
    "        # if palidrone, add to the list\n",
    "        if is_palindrone(p):\n",
    "            palindrones.append(p)\n",
    "\n",
    "# report the maximum value in the list of palindrones            \n",
    "print 'The largest palindrone is', max(palindrones)\n",
    "        \n",
    "    "
   ]
  },
  {
   "cell_type": "markdown",
   "metadata": {},
   "source": [
    "\n",
    "### Challenge 1.2: Summation of Primes\n",
    "The sum of the primes below 10 is 2 + 3 + 5 + 7 = 17. Find the sum of all the primes below 2,000."
   ]
  },
  {
   "cell_type": "code",
   "execution_count": 126,
   "metadata": {
    "collapsed": false
   },
   "outputs": [
    {
     "name": "stdout",
     "output_type": "stream",
     "text": [
      "Sum of primes under 200 is 277050\n"
     ]
    }
   ],
   "source": [
    "# Define method that returns True if number is prime, returns False otherwise\n",
    "def is_prime(num):\n",
    "    # Prime numbers can only be positive integers\n",
    "    if num < 0:\n",
    "        return False\n",
    "    \n",
    "    # Prime numbers are only divisible by on eand themselves\n",
    "    # Check all integers lower than number to see if there's a remainder\n",
    "    # If any numbers produce a zero remainder, then it's not prime\n",
    "    for i in range(2,num):\n",
    "        if num%i == 0:\n",
    "            return False\n",
    "    return True\n",
    "\n",
    "# Find the sum of all prime numbers under 2000\n",
    "sum_primes = 0\n",
    "for i in range(2,2000):\n",
    "    if is_prime(i):\n",
    "        sum_primes += i\n",
    "        \n",
    "print 'Sum of primes under 200 is', sum_primes\n"
   ]
  },
  {
   "cell_type": "markdown",
   "metadata": {},
   "source": [
    "### Challenge 1.3: Multiples of 3 and 5\n",
    "If we list all of the natural numbers below 10 that are multiples of 3 or 5, we get 3, 5, 6, and 9. The sum of these multiples is 23. Find the sum of all the multiples of 3 and 5 below 1,000."
   ]
  },
  {
   "cell_type": "code",
   "execution_count": 130,
   "metadata": {
    "collapsed": false
   },
   "outputs": [
    {
     "name": "stdout",
     "output_type": "stream",
     "text": [
      "Sum of multiples of 3 or 5 below 1000 is 233168\n"
     ]
    }
   ],
   "source": [
    "sum_multiples = 0\n",
    "for i in range(3,1000):\n",
    "    #if number is a multiple of 3 or 5, add it to sum\n",
    "    if i%3==0 or i%5==0:\n",
    "        sum_multiples += i\n",
    "print 'Sum of multiples of 3 or 5 below 1000 is', sum_multiples"
   ]
  },
  {
   "cell_type": "markdown",
   "metadata": {},
   "source": [
    "### Challenge 2: FizzBuzz\n",
    "Write a program that prints all of the numbers from 1 to 100. For multiples of 3, instead of the number, print \"Fizz;\" for multiples of 5, print \"Buzz.\" For numbers that are multiples of both 3 and 5, print \"FizzBuzz.\" Bonus: If that's too easy, create three unique solutions. Sometimes you'll encounter unexpected constraints, so make sure you're able to think creatively!"
   ]
  },
  {
   "cell_type": "code",
   "execution_count": 131,
   "metadata": {
    "collapsed": false
   },
   "outputs": [
    {
     "name": "stdout",
     "output_type": "stream",
     "text": [
      "1\n",
      "2\n",
      "3 Fizz\n",
      "4\n",
      "5 Buzz\n",
      "6 Fizz\n",
      "7\n",
      "8\n",
      "9 Fizz\n",
      "10 Buzz\n",
      "11\n",
      "12 Fizz\n",
      "13\n",
      "14\n",
      "15 FizzBuzz\n",
      "16\n",
      "17\n",
      "18 Fizz\n",
      "19\n",
      "20 Buzz\n",
      "21 Fizz\n",
      "22\n",
      "23\n",
      "24 Fizz\n",
      "25 Buzz\n",
      "26\n",
      "27 Fizz\n",
      "28\n",
      "29\n",
      "30 FizzBuzz\n",
      "31\n",
      "32\n",
      "33 Fizz\n",
      "34\n",
      "35 Buzz\n",
      "36 Fizz\n",
      "37\n",
      "38\n",
      "39 Fizz\n",
      "40 Buzz\n",
      "41\n",
      "42 Fizz\n",
      "43\n",
      "44\n",
      "45 FizzBuzz\n",
      "46\n",
      "47\n",
      "48 Fizz\n",
      "49\n",
      "50 Buzz\n",
      "51 Fizz\n",
      "52\n",
      "53\n",
      "54 Fizz\n",
      "55 Buzz\n",
      "56\n",
      "57 Fizz\n",
      "58\n",
      "59\n",
      "60 FizzBuzz\n",
      "61\n",
      "62\n",
      "63 Fizz\n",
      "64\n",
      "65 Buzz\n",
      "66 Fizz\n",
      "67\n",
      "68\n",
      "69 Fizz\n",
      "70 Buzz\n",
      "71\n",
      "72 Fizz\n",
      "73\n",
      "74\n",
      "75 FizzBuzz\n",
      "76\n",
      "77\n",
      "78 Fizz\n",
      "79\n",
      "80 Buzz\n",
      "81 Fizz\n",
      "82\n",
      "83\n",
      "84 Fizz\n",
      "85 Buzz\n",
      "86\n",
      "87 Fizz\n",
      "88\n",
      "89\n",
      "90 FizzBuzz\n",
      "91\n",
      "92\n",
      "93 Fizz\n",
      "94\n",
      "95 Buzz\n",
      "96 Fizz\n",
      "97\n",
      "98\n",
      "99 Fizz\n",
      "100 Buzz\n"
     ]
    }
   ],
   "source": [
    "for i in range(1,101):\n",
    "    print i,\n",
    "    # First check multiple of 3\n",
    "    if i%3 == 0:\n",
    "        # If check if it's only multiple of 3 or if it's both\n",
    "        if i%5 == 0:\n",
    "            print 'FizzBuzz'\n",
    "        else:\n",
    "            print 'Fizz'\n",
    "    # Check if it's only multiple of 5        \n",
    "    elif i%5 == 0:\n",
    "        print 'Buzz'\n",
    "    else:\n",
    "        print\n",
    "            \n"
   ]
  },
  {
   "cell_type": "markdown",
   "metadata": {},
   "source": [
    "### Challenge 3: String Compressor\n",
    "Implement a method to perform basic string compression using the counts of repeated characters. (This is called run-length encoding.) For example, the string \"aabcccccaaa\" would become a2b1c5a3. If the “compressed” string would not become smaller than the original string, your method should return the original string. You can assume the string has only uppercase and lowercase letters (a–z). Specify whether your solution is case sensitive or case insensitive and what you would need to change to make it the other."
   ]
  },
  {
   "cell_type": "code",
   "execution_count": 123,
   "metadata": {
    "collapsed": false
   },
   "outputs": [],
   "source": [
    "def compress_string(u_string):\n",
    "    #initialize compressed string\n",
    "    c_string = ''\n",
    "    last_char = ''\n",
    "    c_count = 0\n",
    "    for i, c in enumerate(u_string):\n",
    "        # check for new character in uncomressed string\n",
    "        if c != last_char:\n",
    "            if c_count > 0:\n",
    "                # if new character found, add last char count to compressed string\n",
    "                c_string += str(c_count)\n",
    "            # add new char to compressed string\n",
    "            c_string += c\n",
    "            # reset char counter\n",
    "            c_count = 1\n",
    "        # else character is repeated, increment counter\n",
    "        else:\n",
    "            c_count += 1\n",
    "        # assign last_char = current char for next iteration\n",
    "        last_char = c \n",
    "    c_string += str(c_count)\n",
    "    \n",
    "    # if compressed string is not smaller than uncompressed string return original\n",
    "    if len(u_string) <= len(c_string):\n",
    "        return u_string\n",
    "    return c_string    "
   ]
  },
  {
   "cell_type": "code",
   "execution_count": null,
   "metadata": {
    "collapsed": true
   },
   "outputs": [],
   "source": []
  }
 ],
 "metadata": {
  "anaconda-cloud": {},
  "kernelspec": {
   "display_name": "Python 2",
   "language": "python",
   "name": "python2"
  },
  "language_info": {
   "codemirror_mode": {
    "name": "ipython",
    "version": 2
   },
   "file_extension": ".py",
   "mimetype": "text/x-python",
   "name": "python",
   "nbconvert_exporter": "python",
   "pygments_lexer": "ipython2",
   "version": "2.7.13"
  }
 },
 "nbformat": 4,
 "nbformat_minor": 2
}
